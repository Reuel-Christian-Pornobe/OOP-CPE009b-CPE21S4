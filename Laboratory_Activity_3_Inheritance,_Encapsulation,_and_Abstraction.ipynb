{
  "nbformat": 4,
  "nbformat_minor": 0,
  "metadata": {
    "colab": {
      "provenance": [],
      "authorship_tag": "ABX9TyMkVJ9Kc8KAyHLn54p2kBRB",
      "include_colab_link": true
    },
    "kernelspec": {
      "name": "python3",
      "display_name": "Python 3"
    },
    "language_info": {
      "name": "python"
    }
  },
  "cells": [
    {
      "cell_type": "markdown",
      "metadata": {
        "id": "view-in-github",
        "colab_type": "text"
      },
      "source": [
        "<a href=\"https://colab.research.google.com/github/Reuel-Christian-Pornobe/OOP-CPE009b-CPE21S4/blob/main/Laboratory_Activity_3_Inheritance%2C_Encapsulation%2C_and_Abstraction.ipynb\" target=\"_parent\"><img src=\"https://colab.research.google.com/assets/colab-badge.svg\" alt=\"Open In Colab\"/></a>"
      ]
    },
    {
      "cell_type": "code",
      "execution_count": 15,
      "metadata": {
        "colab": {
          "base_uri": "https://localhost:8080/"
        },
        "id": "ijihh0_anDSD",
        "outputId": "439229fd-5875-4aa7-903f-2221b3c0198c"
      },
      "outputs": [
        {
          "output_type": "stream",
          "name": "stdout",
          "text": [
            "Full-time Employee 1: \n",
            "\n",
            "2310463 Reuel 18 50000\n",
            "Allowance, and rate: \n",
            "10000 50000\n",
            "\n",
            "Part-time Employee 2: \n",
            "\n",
            "2312567 Stephen 18 20000\n",
            "rate\n",
            "20000\n"
          ]
        }
      ],
      "source": [
        "'''Create a program in python that satisfies the following:\n",
        "\n",
        " Inheritance, Encapsulation, and Abstraction concept with ADT list\n",
        "Class(Employee: emp_id. emp_name, emp_address, Fulltime: allowance, rate, PartTime: rate)\n",
        "Class(Salary: salary_id, Salary, cut_off_date, days_of_work)'''\n",
        "\n",
        "#Encapsulation\n",
        "#----------------------------------------------\n",
        "class Employee:\n",
        "    def __init__(self,emp_id, emp_name,emp_age,emp_salary):\n",
        "        self._emp_id=emp_id\n",
        "        self._emp_name=emp_name\n",
        "        self._emp_age=emp_age\n",
        "        self._emp_salary=emp_salary\n",
        "\n",
        "    def getInfomation(self):\n",
        "        print(self._emp_id,self._emp_name,self._emp_age,self._emp_salary)\n",
        "#----------------------------------------------\n",
        "\n",
        "\n",
        "#Inheritance\n",
        "#----------------------------------------------\n",
        "class Fulltime:\n",
        "    def __init__(self, allowance, rate):\n",
        "      self.allowance = allowance\n",
        "      self.rate = rate\n",
        "\n",
        "    def getInfomation(self):\n",
        "      print(self.allowance,self.rate)\n",
        "\n",
        "\n",
        "class PartTime:\n",
        "    def __init__(self, rate):\n",
        "      super().__init__()\n",
        "      self.rate = rate\n",
        "\n",
        "    def getInfomation(self):\n",
        "      print(self.rate)\n",
        "#----------------------------------------------\n",
        "\n",
        "\n",
        "class Salary:\n",
        "    def __init__(self, salary_id, Salary, cut_off_date, days_of_work):\n",
        "      self.salary_id = salary_id\n",
        "      self.Salary = Salary\n",
        "      self.cut_off_date = cut_off_date\n",
        "      self.days_of_work = days_of_work\n",
        "\n",
        "\n",
        "#Abstraction with ADT list\n",
        "#----------------------------------------------\n",
        "print('Full-time Employee 1: ')\n",
        "print('')\n",
        "employee = Employee(\"2310463\", 'Reuel', '18', '50000')\n",
        "employee.getInfomation()\n",
        "fulltime = Fulltime(\"10000\", '50000')\n",
        "print('Allowance, and rate: ')\n",
        "fulltime.getInfomation()\n",
        "\n",
        "print('')\n",
        "print('Part-time Employee 2: ')\n",
        "print('')\n",
        "employee2 = Employee(\"2312567\", 'Stephen', '18', '20000')\n",
        "employee2.getInfomation()\n",
        "parttime = PartTime('20000')\n",
        "print('rate')\n",
        "parttime.getInfomation()\n",
        "#----------------------------------------------\n",
        "\n",
        "\n",
        "\n",
        "\n",
        "\n",
        "\n",
        "\n",
        "\n"
      ]
    }
  ]
}