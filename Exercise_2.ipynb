{
  "nbformat": 4,
  "nbformat_minor": 0,
  "metadata": {
    "colab": {
      "provenance": [],
      "authorship_tag": "ABX9TyNHdJE8m460Ks6Y8hCXkDMN",
      "include_colab_link": true
    },
    "kernelspec": {
      "name": "python3",
      "display_name": "Python 3"
    },
    "language_info": {
      "name": "python"
    }
  },
  "cells": [
    {
      "cell_type": "markdown",
      "metadata": {
        "id": "view-in-github",
        "colab_type": "text"
      },
      "source": [
        "<a href=\"https://colab.research.google.com/github/Reuel-Christian-Pornobe/OOP-CPE009b-CPE21S4/blob/main/Exercise_2.ipynb\" target=\"_parent\"><img src=\"https://colab.research.google.com/assets/colab-badge.svg\" alt=\"Open In Colab\"/></a>"
      ]
    },
    {
      "cell_type": "markdown",
      "source": [
        "### **Example 1**"
      ],
      "metadata": {
        "id": "TpzZ34_XZY7i"
      }
    },
    {
      "cell_type": "code",
      "source": [
        "#Without Encapsulation\n",
        "class foo:\n",
        "  def __init__(self, a, b):\n",
        "    self.a = a\n",
        "    self.b = b\n",
        "\n",
        "  def add(self):\n",
        "    return self.a + self.b\n",
        "\n",
        "foo_object = foo(3, 4)\n",
        "print(\"The value of a is:\", foo_object.a)\n",
        "print(\"The value of b is:\", foo_object.b)\n",
        "print(\"The sum is: \",foo_object.add())"
      ],
      "metadata": {
        "colab": {
          "base_uri": "https://localhost:8080/"
        },
        "id": "Cuw_JhdAcBbS",
        "outputId": "bc72a788-8a7a-4abb-dccd-ecb5f6d5deed"
      },
      "execution_count": 6,
      "outputs": [
        {
          "output_type": "stream",
          "name": "stdout",
          "text": [
            "The value of a is: 3\n",
            "The value of b is: 4\n",
            "The sum is:  7\n"
          ]
        }
      ]
    },
    {
      "cell_type": "code",
      "execution_count": 10,
      "metadata": {
        "colab": {
          "base_uri": "https://localhost:8080/"
        },
        "id": "CP-U-KEnZM-z",
        "outputId": "452385df-90da-4101-f78b-4f3cbc226c14"
      },
      "outputs": [
        {
          "output_type": "stream",
          "name": "stdout",
          "text": [
            "The value of a is: 3\n",
            "The value of b is: 4\n",
            "The sum is:  7\n"
          ]
        }
      ],
      "source": [
        "#With Encapsulation\n",
        "class foo:\n",
        "  def __init__(self, a, b):\n",
        "    self._a = a\n",
        "    self._b = b\n",
        "\n",
        "  def add(self):\n",
        "    return self._a + self._b\n",
        "\n",
        "foo_object = foo(3, 4)\n",
        "print(\"The value of a is:\", foo_object._a)\n",
        "print(\"The value of b is:\", foo_object._b)\n",
        "print(\"The sum is: \",foo_object.add())"
      ]
    },
    {
      "cell_type": "markdown",
      "source": [
        "### **Example 2**"
      ],
      "metadata": {
        "id": "oEOd4bo9bAq7"
      }
    },
    {
      "cell_type": "code",
      "source": [
        "#Complete the program by adding object name and\n",
        "#print output variable that display the instance/behaviour of every function\n",
        "#Apply encapsulation by typing single underscore for private variables\n",
        "\n",
        "class Counter:\n",
        "  def __init__(self):\n",
        "    self._current = 0\n",
        "\n",
        "\n",
        "  def increment(self):\n",
        "    self._current += 1\n",
        "\n",
        "  def value(self):\n",
        "    return self._current\n",
        "\n",
        "  def reset(self):\n",
        "    self._current = 0\n",
        "\n",
        "\n",
        "counter = Counter()\n",
        "print(\"Current Value: \", counter.value())\n",
        "#incrementation\n",
        "counter.increment()\n",
        "counter.increment()\n",
        "counter.increment()\n",
        "\n",
        "print(\"Value after Incrementation: \", counter.value())\n",
        "\n",
        "#reset\n",
        "counter.reset()\n",
        "print(\"Value after Reset: \", counter.value())\n"
      ],
      "metadata": {
        "colab": {
          "base_uri": "https://localhost:8080/"
        },
        "id": "08e0MpthbFFa",
        "outputId": "9192566c-fd1a-4a80-b31a-ceb06e10ac6f"
      },
      "execution_count": 12,
      "outputs": [
        {
          "output_type": "stream",
          "name": "stdout",
          "text": [
            "Current Value:  0\n",
            "Value after Incrementation:  3\n",
            "Value after Reset:  0\n"
          ]
        }
      ]
    }
  ]
}