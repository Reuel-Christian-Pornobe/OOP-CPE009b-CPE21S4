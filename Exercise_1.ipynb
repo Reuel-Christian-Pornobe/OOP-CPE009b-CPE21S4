{
  "nbformat": 4,
  "nbformat_minor": 0,
  "metadata": {
    "colab": {
      "provenance": [],
      "authorship_tag": "ABX9TyPGSICUF5W0LnlwfRtrwWXN",
      "include_colab_link": true
    },
    "kernelspec": {
      "name": "python3",
      "display_name": "Python 3"
    },
    "language_info": {
      "name": "python"
    }
  },
  "cells": [
    {
      "cell_type": "markdown",
      "metadata": {
        "id": "view-in-github",
        "colab_type": "text"
      },
      "source": [
        "<a href=\"https://colab.research.google.com/github/Reuel-Christian-Pornobe/Reuel-Christian-Pornobe-OOP-CPE009b-CPE21S4/blob/main/Exercise_1.ipynb\" target=\"_parent\"><img src=\"https://colab.research.google.com/assets/colab-badge.svg\" alt=\"Open In Colab\"/></a>"
      ]
    },
    {
      "cell_type": "code",
      "source": [
        "#Super Class constructor\n",
        "class Person:\n",
        "  def __init__(self, name,age,birthdate): #defining attributes and identity\n",
        "    self.name = name\n",
        "    self.age = age\n",
        "    self.birthdate = birthdate\n",
        "\n",
        "  def person_attribute(self): #method or function constructor\n",
        "    return f\"My Names is {self.name} and with an age of {self.age} and born on {self.birthdate}\"\n",
        "\n",
        "class Teacher(Person): #subclass constructor\n",
        "  pass\n",
        "\n",
        "class Student(Person): #subclass constructor\n",
        "  pass\n",
        "\n",
        "class Spy(Person): #subclass constructor\n",
        "  pass\n",
        "\n",
        "class Scammer(Person): #subclass constructor\n",
        "  pass\n",
        "\n",
        "\n",
        "#object instantion\n",
        "person = Person(\"Reuel\", 19, \"Sept 22, 2004\") #behavior/instance of class\n",
        "print(person.person_attribute())\n",
        "\n",
        "student = Student(\"Alice Guo\", 27, \"Oct 12, 2000\")\n",
        "print(student.name)\n",
        "print(student.age)\n",
        "print(student.birthdate)\n",
        "print(student.person_attribute())\n",
        "\n",
        "scammer = Scammer(\"Apollo Quiboloy\", 51, \"Oct 12, 1960\")\n",
        "print(scammer.name)\n",
        "print(scammer.age)\n",
        "print(scammer.birthdate)\n",
        "print(scammer.person_attribute())\n"
      ],
      "metadata": {
        "colab": {
          "base_uri": "https://localhost:8080/"
        },
        "id": "jFjtzrr3HcRX",
        "outputId": "478c34a0-61ae-415f-c609-36e5f0a9ba98"
      },
      "execution_count": 21,
      "outputs": [
        {
          "output_type": "stream",
          "name": "stdout",
          "text": [
            "My Names is Reuel and with an age of 19 and born on Sept 22, 2004\n",
            "Alice Guo\n",
            "27\n",
            "Oct 12, 2000\n",
            "My Names is Alice Guo and with an age of 27 and born on Oct 12, 2000\n",
            "Apollo Quiboloy\n",
            "51\n",
            "Oct 12, 1960\n",
            "My Names is Apollo Quiboloy and with an age of 51 and born on Oct 12, 1960\n"
          ]
        }
      ]
    },
    {
      "cell_type": "markdown",
      "source": [
        "### **Challenge 1**"
      ],
      "metadata": {
        "id": "quIhGBUESyPl"
      }
    },
    {
      "cell_type": "code",
      "source": [
        "'''Create a pytthon program that has the following:\n",
        "  1. SuperClass named Shapes\n",
        "  2. Subclasses: Rectangle, Square\n",
        "  3. Methods: perimeter(), Area()\n",
        "  4. object name: rectangle, square\n",
        "  5. inherits the attributes of the superclass Shapes\n",
        "  self.side = side\n",
        "'''\n",
        "#1. SuperClass named Shapes\n",
        "class Shapes:\n",
        "  def __init__(self,side1,side2):\n",
        "    self.side1 = side1\n",
        "    self.side2 = side2\n",
        "#3. Methods: perimeter(), Area()\n",
        "  def Perimeter(self):\n",
        "    return 2*(self.side1 + self.side2)\n",
        "\n",
        "  def Area(self):\n",
        "    return self.side1 * self.side2\n",
        "\n",
        "\n",
        "#2. Subclasses: Rectangle, Square\n",
        "class Rectangle(Shapes):\n",
        "  pass #inherits the attributes of the superclass Shapes\n",
        "\n",
        "class Square(Shapes):\n",
        "  pass #inherits the attributes of the superclass Shapes\n",
        "\n",
        "\n",
        "\n",
        "length = float(input(\"Enter the length of the rectangle: \"))\n",
        "width = float(input(\"Enter the width of the rectangle: \"))\n",
        "\n",
        "rectangle = Rectangle(length, width)\n",
        "print(\"The perimeter of the rectangle is: \", rectangle.Perimeter())\n",
        "print(\"The area of the rectangle is: \", rectangle.Area())\n",
        "\n",
        "side = float(input(\"Enter the side of the square: \"))\n",
        "square = Square(side,side)\n",
        "print(\"The perimeter of the square is: \", square.Perimeter())\n",
        "print(\"The area of the square is: \", square.A2rea())\n",
        "\n"
      ],
      "metadata": {
        "colab": {
          "base_uri": "https://localhost:8080/"
        },
        "id": "bu-11SqXS3u8",
        "outputId": "c093afd6-4704-4608-eac4-b1d9bf10d613"
      },
      "execution_count": 23,
      "outputs": [
        {
          "output_type": "stream",
          "name": "stdout",
          "text": [
            "Enter the length of the rectangle: 10\n",
            "Enter the width of the rectangle: 20\n",
            "The perimeter of the rectangle is:  60.0\n",
            "The area of the rectangle is:  200.0\n",
            "Enter the side of the square: 100\n",
            "The perimeter of the square is:  400.0\n",
            "The area of the square is:  10000.0\n"
          ]
        }
      ]
    }
  ]
}